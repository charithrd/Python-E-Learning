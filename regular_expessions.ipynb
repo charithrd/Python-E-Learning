{
  "cells": [
    {
      "cell_type": "markdown",
      "metadata": {
        "id": "view-in-github",
        "colab_type": "text"
      },
      "source": [
        "<a href=\"https://colab.research.google.com/github/charithrd/Python-E-Learning/blob/main/regular_expessions.ipynb\" target=\"_parent\"><img src=\"https://colab.research.google.com/assets/colab-badge.svg\" alt=\"Open In Colab\"/></a>"
      ]
    },
    {
      "cell_type": "markdown",
      "metadata": {
        "id": "SSMaDgTuxw2t"
      },
      "source": [
        "# Regular Expressions in Python\n",
        "\n",
        "This notebook demonstrates the use of regular expressions (regex) in Python. We'll cover basic pattern matching, commonly used regex patterns, and various regex methods."
      ]
    },
    {
      "cell_type": "markdown",
      "metadata": {
        "id": "2nLOuZf0xw2u"
      },
      "source": [
        "## 1. Importing the regex module"
      ]
    },
    {
      "cell_type": "code",
      "execution_count": 2,
      "metadata": {
        "id": "83Qq6cHrxw2v"
      },
      "outputs": [],
      "source": [
        "import re"
      ]
    },
    {
      "cell_type": "markdown",
      "metadata": {
        "id": "I_QWicPcxw2v"
      },
      "source": [
        "## 2. Basic Pattern Matching"
      ]
    },
    {
      "cell_type": "code",
      "execution_count": 5,
      "metadata": {
        "id": "IxFrrprSxw2w",
        "colab": {
          "base_uri": "https://localhost:8080/"
        },
        "outputId": "b28655ac-2d01-4a3e-89d5-2affafac9e61"
      },
      "outputs": [
        {
          "output_type": "stream",
          "name": "stdout",
          "text": [
            "Pattern 'fox' found: True\n",
            "True\n",
            "True\n"
          ]
        }
      ],
      "source": [
        "text = \"The quick brown fox jumps over the lazy dog\"\n",
        "\n",
        "# Simple pattern matching\n",
        "pattern = r\"fox\"\n",
        "match = re.search(pattern, text)\n",
        "print(f\"Pattern '{pattern}' found:\", match is not None)\n",
        "\n",
        "# Using ^ (start of string) and $ (end of string)\n",
        "print(re.search(r\"^The\", text) is not None)  # True\n",
        "print(re.search(r\"dog$\", text) is not None)  # True"
      ]
    },
    {
      "cell_type": "markdown",
      "metadata": {
        "id": "Su2MiW6zxw2w"
      },
      "source": [
        "## 3. Character Classes"
      ]
    },
    {
      "cell_type": "code",
      "execution_count": 6,
      "metadata": {
        "id": "W__KYqSRxw2w",
        "colab": {
          "base_uri": "https://localhost:8080/"
        },
        "outputId": "8f424f14-2be1-4258-b0ae-b4ccf65c39a8"
      },
      "outputs": [
        {
          "output_type": "stream",
          "name": "stdout",
          "text": [
            "Vowels found: ['e', 'u', 'i', 'o', 'o', 'u', 'o', 'e', 'e', 'a', 'o']\n",
            "Consonants found: ['T', 'h', 'q', 'c', 'k', 'b', 'r', 'w', 'n', 'f', 'x', 'j', 'm', 'p', 's', 'v', 'r', 't', 'h', 'l', 'z', 'y', 'd', 'g']\n",
            "Numbers found: ['2', '0', '2', '3']\n"
          ]
        }
      ],
      "source": [
        "# [aeiou] matches any vowel\n",
        "vowels = re.findall(r\"[aeiou]\", text)\n",
        "print(\"Vowels found:\", vowels)\n",
        "\n",
        "# [^aeiou] matches any consonant (^ inside [] means negation)\n",
        "consonants = re.findall(r\"[^aeiou\\s]\", text)\n",
        "print(\"Consonants found:\", consonants)\n",
        "\n",
        "# \\d matches any digit\n",
        "numbers = re.findall(r\"\\d\", \"The year is 2023\")\n",
        "print(\"Numbers found:\", numbers)"
      ]
    },
    {
      "cell_type": "markdown",
      "metadata": {
        "id": "HO3jrLc5xw2w"
      },
      "source": [
        "## 4. Quantifiers"
      ]
    },
    {
      "cell_type": "code",
      "execution_count": 7,
      "metadata": {
        "id": "v6kURCctxw2x",
        "colab": {
          "base_uri": "https://localhost:8080/"
        },
        "outputId": "84e80536-eaa7-4011-a471-53b5ba52d817"
      },
      "outputs": [
        {
          "output_type": "stream",
          "name": "stdout",
          "text": [
            "True\n",
            "False\n",
            "True\n",
            "True\n",
            "False\n"
          ]
        }
      ],
      "source": [
        "# * (0 or more), + (1 or more), ? (0 or 1)\n",
        "print(re.search(r\"fox*\", \"fo\") is not None)  # True\n",
        "print(re.search(r\"fox+\", \"fo\") is not None)  # False\n",
        "print(re.search(r\"fox?\", \"fo\") is not None)  # True\n",
        "\n",
        "# {n} (exactly n times), {n,} (n or more times), {n,m} (between n and m times)\n",
        "print(re.search(r\"\\d{4}\", \"The year is 2023\") is not None)  # True\n",
        "print(re.search(r\"\\d{5}\", \"The year is 2023\") is not None)  # False"
      ]
    },
    {
      "cell_type": "markdown",
      "metadata": {
        "id": "WihMxkwBxw2x"
      },
      "source": [
        "## 5. Groups and Capturing"
      ]
    },
    {
      "cell_type": "code",
      "execution_count": 8,
      "metadata": {
        "id": "WGdZAaN1xw2x",
        "colab": {
          "base_uri": "https://localhost:8080/"
        },
        "outputId": "6c36ec96-6f03-4293-d0e8-e5678ccbecb5"
      },
      "outputs": [
        {
          "output_type": "stream",
          "name": "stdout",
          "text": [
            "Phone numbers found: [('123', '456', '7890')]\n",
            "{'area': '123', 'local': '456', 'number': '7890'}\n"
          ]
        }
      ],
      "source": [
        "phone = \"Call me at 123-456-7890 or (987) 654-3210\"\n",
        "\n",
        "# Capturing groups with ()\n",
        "pattern = r\"(\\d{3})[-.]?(\\d{3})[-.]?(\\d{4})\"\n",
        "matches = re.findall(pattern, phone)\n",
        "print(\"Phone numbers found:\", matches)\n",
        "\n",
        "# Named groups with (?P<name>...)\n",
        "pattern = r\"(?P<area>\\d{3})[-.]?(?P<local>\\d{3})[-.]?(?P<number>\\d{4})\"\n",
        "for match in re.finditer(pattern, phone):\n",
        "    print(match.groupdict())"
      ]
    },
    {
      "cell_type": "markdown",
      "metadata": {
        "id": "5ygv0Kkoxw2x"
      },
      "source": [
        "## 6. Common Regex Methods"
      ]
    },
    {
      "cell_type": "code",
      "execution_count": 9,
      "metadata": {
        "id": "g6TNxzorxw2x",
        "colab": {
          "base_uri": "https://localhost:8080/"
        },
        "outputId": "695c1b77-184c-4b43-8040-771f19fcfa7a"
      },
      "outputs": [
        {
          "output_type": "stream",
          "name": "stdout",
          "text": [
            "First match: ai\n",
            "All matches: ['ai', 'ai', 'al', 'ai', 'ai']\n",
            "After substitution: The rXXn in SpXXn fXXls mXXnly on the plXXn.\n",
            "Split text: ['The', 'rain', 'in', 'Spain', 'falls', 'mainly', 'on', 'the', 'plain.']\n"
          ]
        }
      ],
      "source": [
        "text = \"The rain in Spain falls mainly on the plain.\"\n",
        "\n",
        "# re.search() - Find first occurrence\n",
        "match = re.search(r\"a[i|ll]\", text)\n",
        "print(\"First match:\", match.group() if match else \"No match\")\n",
        "\n",
        "# re.findall() - Find all occurrences\n",
        "matches = re.findall(r\"a[i|ll]\", text)\n",
        "print(\"All matches:\", matches)\n",
        "\n",
        "# re.sub() - Substitution\n",
        "new_text = re.sub(r\"a[i|ll]\", \"XX\", text)\n",
        "print(\"After substitution:\", new_text)\n",
        "\n",
        "# re.split() - Split string by pattern\n",
        "split_text = re.split(r\"\\s+\", text)\n",
        "print(\"Split text:\", split_text)"
      ]
    },
    {
      "cell_type": "markdown",
      "metadata": {
        "id": "lFEzZktsxw2x"
      },
      "source": [
        "## 7. Greedy vs. Non-Greedy Matching"
      ]
    },
    {
      "cell_type": "code",
      "execution_count": null,
      "metadata": {
        "id": "caaXdMPsxw2x"
      },
      "outputs": [],
      "source": [
        "text = \"<p>This is a paragraph</p><p>This is another paragraph</p>\"\n",
        "\n",
        "# Greedy matching (default)\n",
        "greedy = re.findall(r\"<p>.*</p>\", text)\n",
        "print(\"Greedy matching:\", greedy)\n",
        "\n",
        "# Non-greedy matching (adding ?)\n",
        "non_greedy = re.findall(r\"<p>.*?</p>\", text)\n",
        "print(\"Non-greedy matching:\", non_greedy)"
      ]
    },
    {
      "cell_type": "markdown",
      "metadata": {
        "id": "yG1a6Np0xw2y"
      },
      "source": [
        "## 8. Lookahead and Lookbehind"
      ]
    },
    {
      "cell_type": "code",
      "execution_count": null,
      "metadata": {
        "id": "yeYqaU6ixw2y"
      },
      "outputs": [],
      "source": [
        "text = \"I have $10 and €20\"\n",
        "\n",
        "# Positive lookahead (?=...)\n",
        "dollars = re.findall(r\"\\d+(?=\\s*\\$)\", text)\n",
        "print(\"Dollars:\", dollars)\n",
        "\n",
        "# Positive lookbehind (?<=...)\n",
        "euros = re.findall(r\"(?<=€\\s*)\\d+\", text)\n",
        "print(\"Euros:\", euros)"
      ]
    },
    {
      "cell_type": "markdown",
      "metadata": {
        "id": "P1aw5qDbxw2y"
      },
      "source": [
        "## 9. Flags"
      ]
    },
    {
      "cell_type": "code",
      "execution_count": null,
      "metadata": {
        "id": "W6j67GwJxw2y"
      },
      "outputs": [],
      "source": [
        "text = \"Python is AWESOME\\nRegex is POWERFUL\"\n",
        "\n",
        "# Case-insensitive matching\n",
        "matches = re.findall(r\"awesome\", text, re.IGNORECASE)\n",
        "print(\"Case-insensitive matches:\", matches)\n",
        "\n",
        "# Multiline matching\n",
        "matches = re.findall(r\"^\\w+\", text, re.MULTILINE)\n",
        "print(\"Words at the start of each line:\", matches)"
      ]
    },
    {
      "cell_type": "markdown",
      "metadata": {
        "id": "J9v_p3kvxw2y"
      },
      "source": [
        "## 10. Practice Exercise"
      ]
    },
    {
      "cell_type": "code",
      "execution_count": null,
      "metadata": {
        "id": "BfYJrwdixw2y"
      },
      "outputs": [],
      "source": [
        "# Exercise: Extract all email addresses from the given text\n",
        "\n",
        "text = \"\"\"Contact us at info@example.com or support@company.org\n",
        "For sales inquiries, email sales@business.com\n",
        "Invalid emails: @invalid.com, no@domain, missing@.com\n",
        "\"\"\"\n",
        "\n",
        "# Write your regex pattern here\n",
        "pattern = r\"\\b[A-Za-z0-9._%+-]+@[A-Za-z0-9.-]+\\.[A-Z|a-z]{2,}\\b\"\n",
        "\n",
        "# Find all email addresses\n",
        "email_addresses = re.findall(pattern, text)\n",
        "\n",
        "print(\"Email addresses found:\")\n",
        "for email in email_addresses:\n",
        "    print(email)"
      ]
    },
    {
      "cell_type": "markdown",
      "metadata": {
        "id": "Th2x-ppnxw2y"
      },
      "source": [
        "## Conclusion\n",
        "\n",
        "This notebook has demonstrated various regular expression techniques in Python, including:\n",
        "- Basic pattern matching\n",
        "- Character classes\n",
        "- Quantifiers\n",
        "- Groups and capturing\n",
        "- Common regex methods\n",
        "- Greedy vs. non-greedy matching\n",
        "- Lookahead and lookbehind\n",
        "- Flags\n",
        "\n",
        "Practice these techniques to become proficient in using regular expressions for text processing and pattern matching in Python!"
      ]
    }
  ],
  "metadata": {
    "kernelspec": {
      "display_name": "Python 3",
      "language": "python",
      "name": "python3"
    },
    "language_info": {
      "codemirror_mode": {
        "name": "ipython",
        "version": 3
      },
      "file_extension": ".py",
      "mimetype": "text/x-python",
      "name": "python",
      "nbconvert_exporter": "python",
      "pygments_lexer": "ipython3",
      "version": "3.8.8"
    },
    "colab": {
      "provenance": [],
      "include_colab_link": true
    }
  },
  "nbformat": 4,
  "nbformat_minor": 0
}
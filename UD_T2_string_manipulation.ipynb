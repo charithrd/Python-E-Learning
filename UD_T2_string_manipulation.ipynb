{
  "cells": [
    {
      "cell_type": "markdown",
      "metadata": {
        "id": "view-in-github",
        "colab_type": "text"
      },
      "source": [
        "<a href=\"https://colab.research.google.com/github/charithrd/Python-E-Learning/blob/main/UD_T2_string_manipulation.ipynb\" target=\"_parent\"><img src=\"https://colab.research.google.com/assets/colab-badge.svg\" alt=\"Open In Colab\"/></a>"
      ]
    },
    {
      "cell_type": "markdown",
      "metadata": {
        "id": "DOCV-5OS1WBz"
      },
      "source": [
        "# String Manipulation in Python\n",
        "\n",
        "This notebook demonstrates various string manipulation techniques in Python. We'll cover string creation, basic operations, and useful string methods."
      ]
    },
    {
      "cell_type": "markdown",
      "metadata": {
        "id": "FMkkeCWY1WB0"
      },
      "source": [
        "## 1. Creating Strings"
      ]
    },
    {
      "cell_type": "code",
      "execution_count": 1,
      "metadata": {
        "colab": {
          "base_uri": "https://localhost:8080/"
        },
        "id": "OjgvIMH-1WB1",
        "outputId": "224ed894-ce86-43d7-d640-e17eba5dcbd5"
      },
      "outputs": [
        {
          "output_type": "stream",
          "name": "stdout",
          "text": [
            "Hello, World!\n",
            "Python is awesome\n",
            "This is a\n",
            "multi-line\n",
            "string\n"
          ]
        }
      ],
      "source": [
        "# Single quotes\n",
        "s1 = 'Hello, World!'\n",
        "\n",
        "# Double quotes\n",
        "s2 = \"Python is awesome\"\n",
        "\n",
        "# Triple quotes for multi-line strings\n",
        "s3 = \"\"\"This is a\n",
        "multi-line\n",
        "string\"\"\"\n",
        "\n",
        "print(s1)\n",
        "print(s2)\n",
        "print(s3)"
      ]
    },
    {
      "cell_type": "markdown",
      "metadata": {
        "id": "DSYg28L01WB1"
      },
      "source": [
        "## 2. String Concatenation and Repetition"
      ]
    },
    {
      "cell_type": "code",
      "execution_count": 7,
      "metadata": {
        "colab": {
          "base_uri": "https://localhost:8080/"
        },
        "id": "q4cmpUDH1WB2",
        "outputId": "e0d35816-3773-4051-dcf7-d36010eb961b"
      },
      "outputs": [
        {
          "output_type": "stream",
          "name": "stdout",
          "text": [
            "Full name: John Doe\n",
            "Repeated string: PythonPythonPython\n",
            "Customer Rating: ♛♛♛♛\n"
          ]
        }
      ],
      "source": [
        "# Concatenation\n",
        "first_name = \"John\"\n",
        "last_name = \"Doe\"\n",
        "full_name = first_name + \" \" + last_name\n",
        "print(\"Full name:\", full_name)\n",
        "\n",
        "# Repetition\n",
        "repeat_string = \"Python\" * 3\n",
        "print(\"Repeated string:\", repeat_string)\n",
        "\n",
        "rating = 4\n",
        "print(\"Customer Rating: \" + \"♛\"*rating)"
      ]
    },
    {
      "cell_type": "markdown",
      "metadata": {
        "id": "72SmHvo41WB2"
      },
      "source": [
        "## 3. String Indexing and Slicing"
      ]
    },
    {
      "cell_type": "code",
      "execution_count": 8,
      "metadata": {
        "colab": {
          "base_uri": "https://localhost:8080/"
        },
        "id": "vc-3ftzq1WB2",
        "outputId": "21bdf639-24e3-48d1-d43d-eb26d25287a8"
      },
      "outputs": [
        {
          "output_type": "stream",
          "name": "stdout",
          "text": [
            "First character: P\n",
            "Last character: g\n",
            "First 6 characters: Python\n",
            "Last 11 characters: Programming\n",
            "Every second character: Pto rgamn\n"
          ]
        }
      ],
      "source": [
        "text = \"Python Programming\"\n",
        "\n",
        "# Indexing\n",
        "print(\"First character:\", text[0])\n",
        "print(\"Last character:\", text[-1])\n",
        "\n",
        "# Slicing\n",
        "print(\"First 6 characters:\", text[:6])\n",
        "print(\"Last 11 characters:\", text[-11:])\n",
        "print(\"Every second character:\", text[::2])"
      ]
    },
    {
      "cell_type": "markdown",
      "metadata": {
        "id": "aQU-orVX1WB2"
      },
      "source": [
        "## 4. String Methods"
      ]
    },
    {
      "cell_type": "code",
      "execution_count": 9,
      "metadata": {
        "colab": {
          "base_uri": "https://localhost:8080/"
        },
        "id": "OkC1USQE1WB2",
        "outputId": "4919e011-28b0-429e-be2f-accdc495fe70"
      },
      "outputs": [
        {
          "output_type": "stream",
          "name": "stdout",
          "text": [
            "Uppercase:   HELLO, WORLD!  \n",
            "Lowercase:   hello, world!  \n",
            "Title case:   Hello, World!  \n",
            "Stripped: Hello, World!\n",
            "Replaced:   Hello, Python!  \n",
            "Split: ['  Hello', ' World!  ']\n"
          ]
        }
      ],
      "source": [
        "sample = \"  Hello, World!  \"\n",
        "\n",
        "# Changing case\n",
        "print(\"Uppercase:\", sample.upper())\n",
        "print(\"Lowercase:\", sample.lower())\n",
        "print(\"Title case:\", sample.title())\n",
        "\n",
        "# Removing whitespace\n",
        "print(\"Stripped:\", sample.strip())\n",
        "\n",
        "# Replacing\n",
        "print(\"Replaced:\", sample.replace(\"World\", \"Python\"))\n",
        "\n",
        "# Splitting\n",
        "print(\"Split:\", sample.split(\",\"))"
      ]
    },
    {
      "cell_type": "code",
      "source": [
        "# sample.lower().strip().split(',')\n",
        "list = []\n",
        "for word in sample.split(\", \"):\n",
        "  list.append(word.strip().lower())\n",
        "\", \".join(list)"
      ],
      "metadata": {
        "colab": {
          "base_uri": "https://localhost:8080/",
          "height": 36
        },
        "id": "t6mK7CIT52wV",
        "outputId": "63b62d81-d68f-49c3-8390-08c26a95548d"
      },
      "execution_count": 12,
      "outputs": [
        {
          "output_type": "execute_result",
          "data": {
            "text/plain": [
              "'hello, world!'"
            ],
            "application/vnd.google.colaboratory.intrinsic+json": {
              "type": "string"
            }
          },
          "metadata": {},
          "execution_count": 12
        }
      ]
    },
    {
      "cell_type": "markdown",
      "metadata": {
        "id": "pIwb3D_31WB2"
      },
      "source": [
        "## 5. String Formatting"
      ]
    },
    {
      "cell_type": "code",
      "execution_count": 13,
      "metadata": {
        "colab": {
          "base_uri": "https://localhost:8080/"
        },
        "id": "GCQ2q4GA1WB3",
        "outputId": "c442d107-dcbe-4d9f-d525-684f98bd7935"
      },
      "outputs": [
        {
          "output_type": "stream",
          "name": "stdout",
          "text": [
            "My name is Alice and I'm 30 years old\n",
            "My name is Alice and I'm 30 years old\n",
            "Pi to 2 decimal places: 3.14\n"
          ]
        }
      ],
      "source": [
        "name = \"Alice\"\n",
        "age = 30\n",
        "\n",
        "# Using .format()\n",
        "print(\"My name is {} and I'm {} years old\".format(name, age))\n",
        "\n",
        "# Using f-strings (Python 3.6+)\n",
        "print(f\"My name is {name} and I'm {age} years old\")\n",
        "\n",
        "# Formatting numbers\n",
        "pi = 3.14159\n",
        "print(f\"Pi to 2 decimal places: {pi:.2f}\")"
      ]
    },
    {
      "cell_type": "markdown",
      "metadata": {
        "id": "00I8oeme1WB3"
      },
      "source": [
        "## 6. String Checking Methods"
      ]
    },
    {
      "cell_type": "code",
      "execution_count": 14,
      "metadata": {
        "colab": {
          "base_uri": "https://localhost:8080/"
        },
        "id": "O7GkIh2s1WB3",
        "outputId": "d1642270-f52e-45bc-f931-c8dd62e0ec4f"
      },
      "outputs": [
        {
          "output_type": "stream",
          "name": "stdout",
          "text": [
            "Is alphanumeric? True\n",
            "Is alphabetic? False\n",
            "Is digit? False\n",
            "Is lowercase? False\n",
            "Is uppercase? False\n",
            "Starts with 'Py'? True\n",
            "Ends with '123'? True\n"
          ]
        }
      ],
      "source": [
        "text = \"Python123\"\n",
        "\n",
        "print(\"Is alphanumeric?\", text.isalnum())\n",
        "print(\"Is alphabetic?\", text.isalpha())\n",
        "print(\"Is digit?\", text.isdigit())\n",
        "print(\"Is lowercase?\", text.islower())\n",
        "print(\"Is uppercase?\", text.isupper())\n",
        "print(\"Starts with 'Py'?\", text.startswith(\"Py\"))\n",
        "print(\"Ends with '123'?\", text.endswith(\"123\"))"
      ]
    },
    {
      "cell_type": "markdown",
      "metadata": {
        "id": "WdAAhqaH1WB3"
      },
      "source": [
        "## 7. Finding and Counting"
      ]
    },
    {
      "cell_type": "code",
      "execution_count": 15,
      "metadata": {
        "colab": {
          "base_uri": "https://localhost:8080/"
        },
        "id": "BDuiDNsF1WB3",
        "outputId": "6d5a0808-95c5-4ac2-bca6-90a4de1319a0"
      },
      "outputs": [
        {
          "output_type": "stream",
          "name": "stdout",
          "text": [
            "Index of 'awesome': 10\n",
            "Count of 'Python': 3\n"
          ]
        }
      ],
      "source": [
        "sentence = \"Python is awesome. Python is powerful. Python is flexible.\"\n",
        "\n",
        "print(\"Index of 'awesome':\", sentence.find(\"awesome\"))\n",
        "print(\"Count of 'Python':\", sentence.count(\"Python\"))"
      ]
    },
    {
      "cell_type": "markdown",
      "metadata": {
        "id": "4XMZEAaC1WB3"
      },
      "source": [
        "## 8. Advanced String Operations"
      ]
    },
    {
      "cell_type": "code",
      "execution_count": 16,
      "metadata": {
        "colab": {
          "base_uri": "https://localhost:8080/"
        },
        "id": "Z1woiUCH1WB3",
        "outputId": "45687f7c-8edb-480b-a4b1-87a625ba21d9"
      },
      "outputs": [
        {
          "output_type": "stream",
          "name": "stdout",
          "text": [
            "Joined string: Python is awesome\n",
            "Centered: *******Python*******\n",
            "Translated: h2ll4\n"
          ]
        }
      ],
      "source": [
        "# Joining strings\n",
        "words = [\"Python\", \"is\", \"awesome\"]\n",
        "print(\"Joined string:\", \" \".join(words))\n",
        "\n",
        "# Center align\n",
        "print(\"Centered:\", \"Python\".center(20, \"*\"))\n",
        "\n",
        "# Translate\n",
        "trans_table = str.maketrans(\"aeiou\", \"12345\")\n",
        "print(\"Translated:\", \"hello\".translate(trans_table))"
      ]
    },
    {
      "cell_type": "markdown",
      "metadata": {
        "id": "gGjJGx3b1WB3"
      },
      "source": [
        "## 9. Practice Exercise"
      ]
    },
    {
      "cell_type": "code",
      "execution_count": 17,
      "metadata": {
        "colab": {
          "base_uri": "https://localhost:8080/"
        },
        "id": "PnmAbacb1WB3",
        "outputId": "0b8e4d54-b712-4f36-a4ee-7b6efeab6bd9"
      },
      "outputs": [
        {
          "output_type": "stream",
          "name": "stdout",
          "text": [
            "nythoP\n",
            "a\n",
            "oellH\n"
          ]
        }
      ],
      "source": [
        "# Exercise: Create a function that takes a string and returns it with the first and last characters swapped\n",
        "\n",
        "def swap_first_last(string):\n",
        "    if len(string) <= 1:\n",
        "        return string\n",
        "    return string[-1] + string[1:-1] + string[0]\n",
        "\n",
        "# Test the function\n",
        "print(swap_first_last(\"Python\"))  # Should print 'nythoP'\n",
        "print(swap_first_last(\"a\"))       # Should print 'a'\n",
        "print(swap_first_last(\"Hello\"))   # Should print 'oellH'"
      ]
    },
    {
      "cell_type": "markdown",
      "metadata": {
        "id": "BPVBpf021WB4"
      },
      "source": [
        "## Conclusion\n",
        "\n",
        "This notebook has demonstrated various string manipulation techniques in Python, including:\n",
        "- Creating strings\n",
        "- Basic string operations (concatenation, repetition)\n",
        "- Indexing and slicing\n",
        "- Common string methods\n",
        "- String formatting\n",
        "- String checking methods\n",
        "- Finding and counting in strings\n",
        "- Advanced string operations\n",
        "\n",
        "Practice these techniques to become proficient in handling text data in Python!"
      ]
    }
  ],
  "metadata": {
    "kernelspec": {
      "display_name": "Python 3",
      "language": "python",
      "name": "python3"
    },
    "language_info": {
      "codemirror_mode": {
        "name": "ipython",
        "version": 3
      },
      "file_extension": ".py",
      "mimetype": "text/x-python",
      "name": "python",
      "nbconvert_exporter": "python",
      "pygments_lexer": "ipython3",
      "version": "3.8.8"
    },
    "colab": {
      "provenance": [],
      "include_colab_link": true
    }
  },
  "nbformat": 4,
  "nbformat_minor": 0
}